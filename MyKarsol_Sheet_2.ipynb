{
  "nbformat": 4,
  "nbformat_minor": 0,
  "metadata": {
    "colab": {
      "provenance": [],
      "authorship_tag": "ABX9TyNlYHhVRvORzFqRnP/lMQRq",
      "include_colab_link": true
    },
    "kernelspec": {
      "name": "python3",
      "display_name": "Python 3"
    },
    "language_info": {
      "name": "python"
    }
  },
  "cells": [
    {
      "cell_type": "markdown",
      "metadata": {
        "id": "view-in-github",
        "colab_type": "text"
      },
      "source": [
        "<a href=\"https://colab.research.google.com/github/bbhargavpanchal/Python/blob/main/MyKarsol_Sheet_2.ipynb\" target=\"_parent\"><img src=\"https://colab.research.google.com/assets/colab-badge.svg\" alt=\"Open In Colab\"/></a>"
      ]
    },
    {
      "cell_type": "markdown",
      "source": [
        "P1. Write a class circle having radius as member data and make following member function:\n",
        " \n",
        " 1. IF /Display function\n",
        " 2. Write a member function that will return area of circle.\n",
        " 3. Write a member function that will return circumference of a circle."
      ],
      "metadata": {
        "id": "gXCvnq5rhdOz"
      }
    },
    {
      "cell_type": "code",
      "source": [
        "class Circle:\n",
        "    def __init__(self, radius):\n",
        "        self.radius = radius\n",
        "    \n",
        "    def display(self):\n",
        "        print(f\"Circle with radius {self.radius}\")\n",
        "    \n",
        "    def area(self):\n",
        "        return 3.14 * self.radius**2\n",
        "    \n",
        "    def circumference(self):\n",
        "        return 2 * 3.14 * self.radius\n",
        "# create a circle object with radius 5\n",
        "p = int(input(\"Enter Circle Radius: \"))\n",
        "c = Circle(p)\n",
        "print()\n",
        "# display the circle\n",
        "c.display()\n",
        "\n",
        "# calculate and print the area of the circle\n",
        "print(f\"Area of circle = {c.area()}\")\n",
        "\n",
        "# calculate and print the circumference of the circle\n",
        "print(f\"Circumference of circle = {c.circumference()}\")\n"
      ],
      "metadata": {
        "colab": {
          "base_uri": "https://localhost:8080/"
        },
        "id": "fbOaAIDGhcd9",
        "outputId": "794be60a-9021-4eaa-f1e6-264518a595c7"
      },
      "execution_count": null,
      "outputs": [
        {
          "output_type": "stream",
          "name": "stdout",
          "text": [
            "Enter Circle Radius: 8\n",
            "Circle with radius 8\n",
            "Area of circle = 200.96\n",
            "Circumference of circle = 50.24\n"
          ]
        }
      ]
    },
    {
      "cell_type": "markdown",
      "source": [
        "P2. Write a class rectangle having length and width as member data and make following member function:\n",
        " \n",
        " 1. IF/DISPLAY function\n",
        " 2. Write a member of function that will return area of rectangle.\n",
        " 3. Write a member function that will return perimeter of rectangle."
      ],
      "metadata": {
        "id": "9YOMJAkojCAi"
      }
    },
    {
      "cell_type": "code",
      "source": [
        "class Rectangle:\n",
        "    def __init__(self, length, width):\n",
        "        self.length = length\n",
        "        self.width = width\n",
        "    \n",
        "    def display(self):\n",
        "        print(f\"Rectangle with length {self.length} and width {self.width}\")\n",
        "    \n",
        "    def area(self):\n",
        "        return self.length * self.width\n",
        "    \n",
        "    def perimeter(self):\n",
        "        return 2 * (self.length + self.width)\n",
        "# Prompt the user for the length and width of the rectangle\n",
        "length = float(input(\"Enter the length of the rectangle: \"))\n",
        "width = float(input(\"Enter the width of the rectangle: \"))\n",
        "\n",
        "# Create a Rectangle object with the given length and width\n",
        "rect = Rectangle(length, width)\n",
        "print()\n",
        "# Display the rectangle\n",
        "rect.display()\n",
        "\n",
        "# Calculate and print the area of the rectangle\n",
        "print(f\"Area of rectangle = {rect.area()}\")\n",
        "\n",
        "# Calculate and print the perimeter of the rectangle\n",
        "print(f\"Perimeter of rectangle = {rect.perimeter()}\")\n"
      ],
      "metadata": {
        "colab": {
          "base_uri": "https://localhost:8080/"
        },
        "id": "USm4-hi_imwL",
        "outputId": "6c34b622-15cc-40d1-a31f-f4ff11131e67"
      },
      "execution_count": null,
      "outputs": [
        {
          "output_type": "stream",
          "name": "stdout",
          "text": [
            "Enter the length of the rectangle: 5\n",
            "Enter the width of the rectangle: 3\n",
            "\n",
            "Rectangle with length 5.0 and width 3.0\n",
            "Area of rectangle = 15.0\n",
            "Perimeter of rectangle = 16.0\n"
          ]
        }
      ]
    },
    {
      "cell_type": "markdown",
      "source": [
        "P3. Write a class loan having principle amount ,rate of interest and number of years as member data and \n",
        "make following member function:\n",
        " \n",
        " 1. IF /Display function.\n",
        " 2. Write a member function that will return simple interest. \n",
        " 3. Write a member function that will return compound interest."
      ],
      "metadata": {
        "id": "RbSK6Dtjr2b1"
      }
    },
    {
      "cell_type": "code",
      "source": [
        "class Loan:\n",
        "    def __init__(self, principal, rate, years):\n",
        "        self.principal = principal\n",
        "        self.rate = rate\n",
        "        self.years = years\n",
        "    \n",
        "    def display(self):\n",
        "        print(f\"Loan with principal {self.principal}, rate of interest {self.rate}%, and number of years {self.years}\")\n",
        "    \n",
        "    def simple_interest(self):\n",
        "        return (self.principal * self.rate * self.years) / 100\n",
        "    \n",
        "    def compound_interest(self):\n",
        "        amount = self.principal * ((1 + (self.rate / 100)) ** self.years)\n",
        "        return amount - self.principal\n",
        "# Prompt the user for the loan information\n",
        "principal = float(input(\"Enter the principal amount: \"))\n",
        "rate = float(input(\"Enter the rate of interest (in %): \"))\n",
        "years = float(input(\"Enter the number of years: \"))\n",
        "\n",
        "# Create a Loan object with the given information\n",
        "loan = Loan(principal, rate, years)\n",
        "print()\n",
        "# Display the loan information\n",
        "loan.display()\n",
        "\n",
        "# Calculate and print the simple interest of the loan\n",
        "simple_interest = loan.simple_interest()\n",
        "print(f\"Simple interest = {simple_interest}\")\n",
        "\n",
        "# Calculate and print the compound interest of the loan\n",
        "compound_interest = loan.compound_interest()\n",
        "print(f\"Compound interest = {compound_interest}\")\n"
      ],
      "metadata": {
        "colab": {
          "base_uri": "https://localhost:8080/"
        },
        "id": "biPbRx0Wr2BL",
        "outputId": "7a8cfc8a-95f3-4ef0-ad10-ea9ca3ecfa57"
      },
      "execution_count": null,
      "outputs": [
        {
          "output_type": "stream",
          "name": "stdout",
          "text": [
            "Enter the principal amount: 333\n",
            "Enter the rate of interest (in %): 33\n",
            "Enter the number of years: 3\n",
            "\n",
            "Loan with principal 333.0, rate of interest 33.0%, and number of years 3.0\n",
            "Simple interest = 329.67\n",
            "Compound interest = 450.42812100000015\n"
          ]
        }
      ]
    },
    {
      "cell_type": "markdown",
      "source": [
        "P4. Write a class Time has Time in hours and minutes as member data and make following member \n",
        "function:\n",
        " \n",
        " 1. IF /Display function.\n",
        " 2. Write a member function that will return time in minutes.\n",
        " 3. Write a member function that will return time in hours."
      ],
      "metadata": {
        "id": "JPHG96T2r_3N"
      }
    },
    {
      "cell_type": "code",
      "source": [
        "class Time:\n",
        "    def __init__(self, hours, minutes):\n",
        "        self.hours = hours\n",
        "        self.minutes = minutes\n",
        "    \n",
        "    def display(self):\n",
        "        print(f\"Time: {self.hours:02d}:{self.minutes:02d}\")\n",
        "    \n",
        "    def time_in_minutes(self):\n",
        "        return self.hours * 60 + self.minutes\n",
        "    \n",
        "    def time_in_hours(self):\n",
        "        return self.hours + self.minutes / 60\n",
        "\n",
        "# prompt the user for the hours and minutes of the time\n",
        "hours = int(input(\"Enter the hours: \"))\n",
        "minutes = int(input(\"Enter the minutes: \"))\n",
        "\n",
        "# create a Time object with the given hours and minutes\n",
        "time = Time(hours, minutes)\n",
        "print()\n",
        "# display the time\n",
        "time.display()\n",
        "\n",
        "# calculate and print the time in minutes\n",
        "print(f\"Time in minutes: {time.time_in_minutes()}\")\n",
        "\n",
        "# calculate and print the time in hours\n",
        "print(f\"Time in hours: {time.time_in_hours()} hours\")\n"
      ],
      "metadata": {
        "colab": {
          "base_uri": "https://localhost:8080/"
        },
        "id": "8Ks11V0sr_Vh",
        "outputId": "2cc02b87-b30c-4fbd-a80d-a169464e21da"
      },
      "execution_count": null,
      "outputs": [
        {
          "output_type": "stream",
          "name": "stdout",
          "text": [
            "Enter the hours: 4\n",
            "Enter the minutes: 44\n",
            "\n",
            "Time: 04:44\n",
            "Time in minutes: 284\n",
            "Time in hours: 4.733333333333333 hours\n"
          ]
        }
      ]
    },
    {
      "cell_type": "markdown",
      "source": [
        "P5. Write a class Distance having Distance in inches as member data and make following member \n",
        "functions:\n",
        " 1. IF /Display function.\n",
        " 2. Write a member function that will print distance in feet and inches"
      ],
      "metadata": {
        "id": "hsBssycfsemI"
      }
    },
    {
      "cell_type": "code",
      "source": [
        "class Distance:\n",
        "    def __init__(self, inches):\n",
        "        self.inches = inches\n",
        "    \n",
        "    def display(self):\n",
        "        print(f\"Distance: {self.inches} inches\")\n",
        "    \n",
        "    def distance_in_feet_and_inches(self):\n",
        "        feet = self.inches // 12\n",
        "        remaining_inches = self.inches % 12\n",
        "        print(f\"Distance: {feet} feet {remaining_inches} inches\")\n",
        "# create a Distance object with 36 inches\n",
        "d = int(input(\"Enter Distance: \"))\n",
        "distance = Distance(d)\n",
        "print()\n",
        "# display the distance\n",
        "distance.display()\n",
        "\n",
        "# print the distance in feet and inches\n",
        "distance.distance_in_feet_and_inches()\n"
      ],
      "metadata": {
        "colab": {
          "base_uri": "https://localhost:8080/"
        },
        "id": "N2e8n4TNsfMp",
        "outputId": "b81d8a4c-9483-4e7e-9ba7-6fa560438635"
      },
      "execution_count": null,
      "outputs": [
        {
          "output_type": "stream",
          "name": "stdout",
          "text": [
            "Enter Distance: 44\n",
            "Distance: 44 inches\n",
            "Distance: 3 feet 8 inches\n"
          ]
        }
      ]
    },
    {
      "cell_type": "markdown",
      "source": [
        "P6. Write a class Profit-Loss having selling price and cost price as member data and make following \n",
        "member function:\n",
        "1. IF /Display function.\n",
        "2. Write a member function that will return percentage of profit or loss"
      ],
      "metadata": {
        "id": "qhRmt0PZw0wu"
      }
    },
    {
      "cell_type": "code",
      "source": [
        "class ProfitLoss:\n",
        "    def __init__(self):\n",
        "        self.selling_price = float(input(\"Enter the selling price: \"))\n",
        "        self.cost_price = float(input(\"Enter the cost price: \"))\n",
        "    \n",
        "    def display(self):\n",
        "        print(f\"Selling price: {self.selling_price}, Cost price: {self.cost_price}\")\n",
        "    \n",
        "    def percentage_profit_loss(self):\n",
        "        profit_loss = self.selling_price - self.cost_price\n",
        "        percentage = (profit_loss / self.cost_price) * 100\n",
        "        if profit_loss > 0:\n",
        "            print(f\"Profit percentage: {percentage}%\")\n",
        "        elif profit_loss < 0:\n",
        "            print(f\"Loss percentage: {percentage}%\")\n",
        "        else:\n",
        "            print(\"No profit, no loss.\")\n",
        "\n",
        "# create a ProfitLoss object with user input for selling price and cost price\n",
        "print()\n",
        "profit_loss = ProfitLoss()\n",
        "\n",
        "# display the selling price and cost price\n",
        "profit_loss.display()\n",
        "\n",
        "# calculate and print the percentage of profit or loss\n",
        "profit_loss.percentage_profit_loss()\n"
      ],
      "metadata": {
        "colab": {
          "base_uri": "https://localhost:8080/"
        },
        "id": "7JWsYDgaw5TA",
        "outputId": "c3fce94e-f5a2-4b42-b02e-8b4ecb81a021"
      },
      "execution_count": null,
      "outputs": [
        {
          "output_type": "stream",
          "name": "stdout",
          "text": [
            "\n",
            "Enter the selling price: 600\n",
            "Enter the cost price: 100\n",
            "Selling price: 600.0, Cost price: 100.0\n",
            "Profit percentage: 500.0%\n"
          ]
        }
      ]
    },
    {
      "cell_type": "markdown",
      "source": [
        "P7. Write a class bank having same account id and balance as member data and make following member \n",
        "function:\n",
        "1. IF /Display function.\n",
        "2. Write a member function that will deposit a given amount onto an account.\n",
        "3. Write a member function that will withdraw a given amount from an account."
      ],
      "metadata": {
        "id": "S2z1ryC0xdO9"
      }
    },
    {
      "cell_type": "code",
      "source": [
        "class Bank:\n",
        "    def __init__(self, account_id, balance):\n",
        "        self.account_id = account_id\n",
        "        self.balance = balance\n",
        "    \n",
        "    def display(self):\n",
        "        print(f\"Account ID: {self.account_id}, Balance: {self.balance}\")\n",
        "    \n",
        "    def deposit(self, amount):\n",
        "        self.balance += amount\n",
        "        print(f\"Deposited {amount}. Current balance is {self.balance}.\")\n",
        "    \n",
        "    def withdraw(self, amount):\n",
        "        if amount > self.balance:\n",
        "            print(\"Insufficient balance.\")\n",
        "        else:\n",
        "            self.balance -= amount\n",
        "            print(f\"Withdrew {amount}. Current balance is {self.balance}.\")\n",
        "\n",
        "\n",
        "# prompt user for account ID and initial balance\n",
        "account_id = int(input(\"Enter account ID: \"))\n",
        "balance = float(input(\"Enter initial balance: \"))\n",
        "\n",
        "# create Bank object with user input\n",
        "bank = Bank(account_id, balance)\n",
        "\n",
        "# display initial balance\n",
        "bank.display()\n",
        "\n",
        "# prompt user for deposit amount and deposit it\n",
        "deposit_amount = float(input(\"Enter deposit amount: \"))\n",
        "bank.deposit(deposit_amount)\n",
        "\n",
        "# prompt user for withdrawal amount and withdraw it\n",
        "withdraw_amount = float(input(\"Enter withdrawal amount: \"))\n",
        "bank.withdraw(withdraw_amount)\n"
      ],
      "metadata": {
        "colab": {
          "base_uri": "https://localhost:8080/"
        },
        "id": "6eWij_8NxcuG",
        "outputId": "aa90abff-5b53-40e9-835c-b4bec649fa49"
      },
      "execution_count": null,
      "outputs": [
        {
          "output_type": "stream",
          "name": "stdout",
          "text": [
            "Enter account ID: 123\n",
            "Enter initial balance: 5000\n",
            "Account ID: 123, Balance: 5000.0\n",
            "Enter deposit amount: 10000\n",
            "Deposited 10000.0. Current balance is 15000.0.\n",
            "Enter withdrawal amount: 30000\n",
            "Insufficient balance.\n"
          ]
        }
      ]
    },
    {
      "cell_type": "markdown",
      "source": [
        "P8. Write a class digit having one int as member data and make following member functions:\n",
        "1. IF /Display function.\n",
        "2. Write a member function that will return number of digit.\n",
        "3. Write a member function that will return sum of all digit.\n",
        "4. Write a member function that will return reverse of it.\n",
        "5. Write a member function that will return 1 if it is Armstrong num otherwise return zero.\n",
        "6. Write a member function that will return 1 if it is Palindrome otherwise return 0.\n",
        "7. Write a member function that will return 1 if it is perfect otherwise return 0."
      ],
      "metadata": {
        "id": "_ibskeP9x97U"
      }
    },
    {
      "cell_type": "code",
      "source": [
        "class Digit:\n",
        "    def __init__(self, num):\n",
        "        self.num = num\n",
        "    \n",
        "    def display(self):\n",
        "        print(f\"Number: {self.num}\")\n",
        "    \n",
        "    def num_of_digits(self):\n",
        "        return len(str(self.num))\n",
        "    \n",
        "    def sum_of_digits(self):\n",
        "        return sum(int(digit) for digit in str(self.num))\n",
        "    \n",
        "    def reverse(self):\n",
        "        return int(str(self.num)[::-1])\n",
        "    \n",
        "    def is_armstrong(self):\n",
        "        num_str = str(self.num)\n",
        "        num_len = len(num_str)\n",
        "        sum = 0\n",
        "        for digit in num_str:\n",
        "            sum += int(digit) ** num_len\n",
        "        return 1 if sum == self.num else 0\n",
        "    \n",
        "    def is_palindrome(self):\n",
        "        return 1 if str(self.num) == str(self.num)[::-1] else 0\n",
        "    \n",
        "    def is_perfect(self):\n",
        "        sum = 0\n",
        "        for i in range(1, self.num):\n",
        "            if self.num % i == 0:\n",
        "                sum += i\n",
        "        return 1 if sum == self.num else 0\n",
        "# create Digit object with input 12345\n",
        "d = Digit(int(input(\"Enter number:\")))\n",
        "print()\n",
        "# display number\n",
        "d.display()\n",
        "\n",
        "# get number of digits\n",
        "print(\"Number of digits:\", d.num_of_digits())\n",
        "\n",
        "# get sum of digits\n",
        "print(\"Sum of digits:\", d.sum_of_digits())\n",
        "\n",
        "# get reverse\n",
        "print(\"Reverse:\", d.reverse())\n",
        "\n",
        "# check if number is Armstrong\n",
        "print(\"Is Armstrong:\", d.is_armstrong())\n",
        "\n",
        "# check if number is palindrome\n",
        "print(\"Is Palindrome:\", d.is_palindrome())\n",
        "\n",
        "# check if number is perfect\n",
        "print(\"Is Perfect:\", d.is_perfect())\n"
      ],
      "metadata": {
        "colab": {
          "base_uri": "https://localhost:8080/"
        },
        "id": "XG8L4mXMx6nL",
        "outputId": "e07bca8b-c234-466e-e077-6d64397fc2be"
      },
      "execution_count": null,
      "outputs": [
        {
          "output_type": "stream",
          "name": "stdout",
          "text": [
            "Enter number:654321\n",
            "\n",
            "Number: 654321\n",
            "Number of digits: 6\n",
            "Sum of digits: 21\n",
            "Reverse: 123456\n",
            "Is Armstrong: 0\n",
            "Is Palindrome: 0\n",
            "Is Perfect: 0\n"
          ]
        }
      ]
    },
    {
      "cell_type": "markdown",
      "source": [
        "P9. Write a class calculator having two float as member data and have following member function:\n",
        "1. IF /Display function.\n",
        "2. Write a member function that will return sum of values of object.\n",
        "3. Write a member function that will return difference of values of object\n",
        "4. Write a member function that will return multiplication of values of object.\n",
        "5. Write a member function that will return division of values of object."
      ],
      "metadata": {
        "id": "sWvIREVtyl23"
      }
    },
    {
      "cell_type": "code",
      "source": [
        "class Calculator:\n",
        "    def __init__(self, num1, num2):\n",
        "        self.num1 = num1\n",
        "        self.num2 = num2\n",
        "\n",
        "    def display(self):\n",
        "        print(f\"Number 1: {self.num1}\")\n",
        "        print(f\"Number 2: {self.num2}\")\n",
        "\n",
        "    def addition(self):\n",
        "        return self.num1 + self.num2\n",
        "\n",
        "    def subtraction(self):\n",
        "        return self.num1 - self.num2\n",
        "\n",
        "    def multiplication(self):\n",
        "        return self.num1 * self.num2\n",
        "\n",
        "    def division(self):\n",
        "        if self.num2 == 0:\n",
        "            return \"Cannot divide by zero\"\n",
        "        else:\n",
        "            return self.num1 / self.num2\n",
        "\n",
        "# Taking user input\n",
        "num1 = float(input(\"Enter first number: \"))\n",
        "num2 = float(input(\"Enter second number: \"))\n",
        "\n",
        "# Creating Calculator object\n",
        "calc = Calculator(num1, num2)\n",
        "print()\n",
        "# Displaying values\n",
        "calc.display()\n",
        "\n",
        "# Performing arithmetic operations\n",
        "print(f\"Sum: {calc.addition()}\")\n",
        "print(f\"\\nDifference: {calc.subtraction()}\")\n",
        "print(f\"Product: {calc.multiplication()}\")\n",
        "print(f\"Division: {calc.division()}\")\n"
      ],
      "metadata": {
        "colab": {
          "base_uri": "https://localhost:8080/"
        },
        "id": "pusFM-UaymNa",
        "outputId": "e8a1779c-3889-4c36-8662-be5fb815ba8d"
      },
      "execution_count": null,
      "outputs": [
        {
          "output_type": "stream",
          "name": "stdout",
          "text": [
            "Enter first number: 10923847\n",
            "Enter second number: 5463728\n",
            "\n",
            "Number 1: 10923847.0\n",
            "Number 2: 5463728.0\n",
            "Sum: 16387575.0\n",
            "\n",
            "Difference: 5460119.0\n",
            "Product: 59684928721616.0\n",
            "Division: 1.9993394619937157\n"
          ]
        }
      ]
    },
    {
      "cell_type": "markdown",
      "source": [
        "P10. Write a class alphabet having one character constant as member data and has following member \n",
        "function:\n",
        "1. IF /Display function.\n",
        "2. Write a member function that will return one if it is a digit otherwise return zero."
      ],
      "metadata": {
        "id": "S92x7PvjzAEY"
      }
    },
    {
      "cell_type": "code",
      "source": [
        "class Alphabet:\n",
        "    def __init__(self, char):\n",
        "        self.char = char\n",
        "    \n",
        "    def display(self):\n",
        "        print(f\"Character: {self.char}\")\n",
        "    \n",
        "    def is_digit(self):\n",
        "        if self.char.isdigit():\n",
        "            return 1\n",
        "        else:\n",
        "            return 0\n",
        "# create an instance of the Alphabet class with character '5'\n",
        "a = Alphabet(input(\"Enter Anything:\"))\n",
        "\n",
        "# call the display() method\n",
        "print()\n",
        "a.display()\n",
        "\n",
        "# call the is_digit() method\n",
        "print(a.is_digit())\n"
      ],
      "metadata": {
        "colab": {
          "base_uri": "https://localhost:8080/"
        },
        "id": "oCa5wQTlzEv_",
        "outputId": "996e1422-4b05-47d8-a38d-15de799c674e"
      },
      "execution_count": null,
      "outputs": [
        {
          "output_type": "stream",
          "name": "stdout",
          "text": [
            "Enter Anything:234AS\n",
            "Character: 234AS\n",
            "0\n"
          ]
        }
      ]
    },
    {
      "cell_type": "markdown",
      "source": [
        "P11. Write a class average having one int array as member data and make following member function:\n",
        "1. IF /Display function.\n",
        "2. Write a member function that will return avg of all + num of array.\n",
        "3. Write a member function that will search a given int in array and return zero if available \n",
        " otherwise return 1. \n",
        "4. Write a member function that will return avg of max min of array."
      ],
      "metadata": {
        "id": "bC85mh6QzwEj"
      }
    },
    {
      "cell_type": "code",
      "source": [
        "class Average:\n",
        "    def __init__(self):\n",
        "        self.arr = []\n",
        "    \n",
        "    def display(self):\n",
        "        print(f\"Array: {self.arr}\")\n",
        "    \n",
        "    def avg_num(self):\n",
        "        return sum(self.arr) / len(self.arr)\n",
        "    \n",
        "    def search_num(self, num):\n",
        "        if num in self.arr:\n",
        "            return 0\n",
        "        else:\n",
        "            return 1\n",
        "    \n",
        "    def avg_max_min(self):\n",
        "        return (max(self.arr) + min(self.arr)) / 2\n",
        "\n",
        "\n",
        "# Example usage:\n",
        "avg = Average()\n",
        "\n",
        "# Get array from user input\n",
        "arr = input(\"Enter array (comma separated integers): \").split(\",\")\n",
        "arr = [int(x.strip()) for x in arr]\n",
        "avg.arr = arr\n",
        "\n",
        "# Display array\n",
        "print()\n",
        "avg.display()\n",
        "\n",
        "# Calculate and display average of numbers in array\n",
        "print(\"Average of numbers in array:\", avg.avg_num())\n",
        "\n",
        "# Get number to search from user input\n",
        "num = int(input(\"Enter number to search in array: \"))\n",
        "\n",
        "# Search for number and display result\n",
        "if avg.search_num(num) == 0:\n",
        "    print(\"Number found in array\")\n",
        "else:\n",
        "    print(\"Number not found in array\")\n",
        "\n",
        "# Calculate and display average of max and min numbers in array\n",
        "print(\"Average of max and min numbers in array:\", avg.avg_max_min())\n"
      ],
      "metadata": {
        "colab": {
          "base_uri": "https://localhost:8080/"
        },
        "id": "sxuuzKrSzzwX",
        "outputId": "bd3af57c-9f83-404e-de7a-ba2d24a5e41f"
      },
      "execution_count": null,
      "outputs": [
        {
          "output_type": "stream",
          "name": "stdout",
          "text": [
            "Enter array (comma separated integers): 1,2,3,4,5,6,7\n",
            "Array: [1, 2, 3, 4, 5, 6, 7]\n",
            "Average of numbers in array: 4.0\n",
            "Enter number to search in array: 6\n",
            "Number found in array\n",
            "Average of max and min numbers in array: 4.0\n"
          ]
        }
      ]
    },
    {
      "cell_type": "markdown",
      "source": [
        "P12. Write a class palin having one string as member data and make following member function:\n",
        "1. IF /Display function.\n",
        "2. Write a member function that will return reverse value of object.\n",
        "3. Write a member function that will return true if value of object is Palindrome otherwise\n",
        " return false."
      ],
      "metadata": {
        "id": "ejeLq9XGz15z"
      }
    },
    {
      "cell_type": "code",
      "source": [
        "class Palindrome:\n",
        "    def __init__(self, string):\n",
        "        self.string = string\n",
        "\n",
        "    def display(self):\n",
        "        print(f\"String: {self.string}\")\n",
        "\n",
        "    def reverse(self):\n",
        "        return self.string[::-1]\n",
        "\n",
        "    def is_palindrome(self):\n",
        "        if self.string == self.string[::-1]:\n",
        "            return True\n",
        "        else:\n",
        "            return False\n",
        "palindrome = Palindrome(str(input(\"Enter String: \")))\n",
        "print()\n",
        "palindrome.display()\n",
        "print(\"Reverse string:\", palindrome.reverse())\n",
        "print(\"Is palindrome?\", palindrome.is_palindrome())\n"
      ],
      "metadata": {
        "colab": {
          "base_uri": "https://localhost:8080/"
        },
        "id": "r985yPKZz5H9",
        "outputId": "1f473b79-4b9a-4a1a-aa07-bf408b67815e"
      },
      "execution_count": null,
      "outputs": [
        {
          "output_type": "stream",
          "name": "stdout",
          "text": [
            "Enter String: kkdjjw\n",
            "\n",
            "String: kkdjjw\n",
            "Reverse string: wjjdkk\n",
            "Is palindrome? False\n"
          ]
        }
      ]
    },
    {
      "cell_type": "markdown",
      "source": [
        "P13. Write a class name having one string array as member data and make following member function:\n",
        "1. Write a member function that will take one string as argument and will search it in string \n",
        " array and will return if it is available in it otherwise return false.\n",
        "2. Write a member function that will print all name whose first character is capital ''A''.\n",
        "3. Write a member function that will return total num of character in string array."
      ],
      "metadata": {
        "id": "3_zV2hjM0-H2"
      }
    },
    {
      "cell_type": "code",
      "source": [
        "class Name:\n",
        "    def __init__(self, names):\n",
        "        self.names = names\n",
        "    \n",
        "    def search_name(self, name):\n",
        "        if name in self.names:\n",
        "            return True\n",
        "        else:\n",
        "            return False\n",
        "    \n",
        "    def print_names_starting_with_A(self):\n",
        "        for name in self.names:\n",
        "            if name[0] == 'A':\n",
        "                print(name)\n",
        "    \n",
        "    def total_num_of_characters(self):\n",
        "        count = 0\n",
        "        for name in self.names:\n",
        "            count += len(name)\n",
        "        return count\n",
        "\n",
        "# example usage\n",
        "names = input(\"Enter names (separated by space): \").split()\n",
        "name_obj = Name(names)\n",
        "\n",
        "# search for a name\n",
        "search_name = input(\"Enter a name to search: \")\n",
        "print()\n",
        "if name_obj.search_name(search_name):\n",
        "    print(f\"{search_name} is found in the list.\")\n",
        "else:\n",
        "    print(f\"{search_name} is not found in the list.\")\n",
        "\n",
        "# print names starting with A\n",
        "print(\"Names starting with A:\")\n",
        "name_obj.print_names_starting_with_A()\n",
        "\n",
        "\n",
        "# calculate total num of characters\n",
        "print(f\"Total number of characters: {name_obj.total_num_of_characters()}\")\n"
      ],
      "metadata": {
        "colab": {
          "base_uri": "https://localhost:8080/"
        },
        "id": "ZQ4PW7Im1BmS",
        "outputId": "0a00168a-f787-4177-a57c-224e84a1da68"
      },
      "execution_count": null,
      "outputs": [
        {
          "output_type": "stream",
          "name": "stdout",
          "text": [
            "Enter names (separated by space): Animal\n",
            "Enter a name to search: se\n",
            "\n",
            "se is not found in the list.\n",
            "Names starting with A:\n",
            "Animal\n",
            "Total number of characters: 6\n"
          ]
        }
      ]
    }
  ]
}